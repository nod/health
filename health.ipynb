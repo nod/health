{
 "cells": [
  {
   "cell_type": "markdown",
   "metadata": {},
   "source": [
    "# health data"
   ]
  },
  {
   "cell_type": "code",
   "execution_count": null,
   "metadata": {
    "collapsed": false
   },
   "outputs": [],
   "source": [
    "# load in our data\n",
    "from json import loads\n",
    "loaded_data = []\n",
    "for i in open('weight.jsl'):\n",
    "    x = loads(i)\n",
    "    loaded_data.append(x)\n",
    "# ensure our loaded_data is sorted properly\n",
    "loaded_data.sort(key=lambda x:x.get('dt'))"
   ]
  },
  {
   "cell_type": "code",
   "execution_count": null,
   "metadata": {
    "collapsed": false
   },
   "outputs": [],
   "source": [
    "start_weight = loaded_data[0]['wt']\n",
    "goal_weight = start_weight * .7# lose 30%?\n",
    "days_to_achieve = 400\n",
    "weight_per_day = (start_weight - goal_weight) / float(days_to_achieve)"
   ]
  },
  {
   "cell_type": "code",
   "execution_count": null,
   "metadata": {
    "collapsed": false
   },
   "outputs": [],
   "source": [
    "%matplotlib inline\n",
    "import matplotlib\n",
    "import numpy as np\n",
    "import seaborn as sns\n",
    "import pandas as pd\n",
    "import matplotlib.pyplot as plt\n",
    "import matplotlib.dates as mdates\n",
    "# make the fig size bigger\n",
    "sns.plt.rcParams['figure.figsize']=(15,8)"
   ]
  },
  {
   "cell_type": "code",
   "execution_count": null,
   "metadata": {
    "collapsed": false
   },
   "outputs": [],
   "source": [
    "start_dt = loaded_data[0]['dt']\n",
    "goal_days = pd.date_range(start_dt, periods=days_to_achieve)\n",
    "weight_exp = np.array([start_weight * (0.999 ** i) for i in range(days_to_achieve)])\n",
    "weight_upper = weight_exp * 1.04\n",
    "weight_lower = weight_exp * .96\n",
    "actual = [loaded_data[0]['wt']]\n",
    "actual.extend( (days_to_achieve-1)*[None] ) # nulls be cranking\n",
    "g = pd.DataFrame(\n",
    "    {'gw':weight_exp, 'wu':weight_upper, 'wl':weight_lower, 'date':goal_days, 'act': actual},\n",
    "    index=goal_days,\n",
    "    )\n",
    "for ld in loaded_data:\n",
    "    g.loc[ld['dt'], 'act'] = ld['wt']\n",
    "g.head()"
   ]
  },
  {
   "cell_type": "code",
   "execution_count": null,
   "metadata": {
    "collapsed": false
   },
   "outputs": [],
   "source": [
    "# get our plot\n",
    "fig, ax = plt.subplots()\n",
    "plt.subplots_adjust(top=0.95)\n",
    "fig.suptitle('Weight Glide') # can also get the figure from plt.gcf()\n",
    "\n",
    "# plot our expected\n",
    "sns.tsplot([g.gw,  g.wl, g.wu], ax=ax, color='lightgreen')\n",
    "# plot our actual\n",
    "sns.tsplot([g.act], ax=ax, color='darkgreen')\n",
    "fig.suptitle = 'Weight Glide'\n",
    "fig.ylabel = 'Weight'\n",
    "fig.xlabel = 'Days'"
   ]
  },
  {
   "cell_type": "code",
   "execution_count": null,
   "metadata": {
    "collapsed": true
   },
   "outputs": [],
   "source": []
  },
  {
   "cell_type": "code",
   "execution_count": null,
   "metadata": {
    "collapsed": true
   },
   "outputs": [],
   "source": []
  }
 ],
 "metadata": {
  "kernelspec": {
   "display_name": "Python 2",
   "language": "python",
   "name": "python2"
  },
  "language_info": {
   "codemirror_mode": {
    "name": "ipython",
    "version": 2
   },
   "file_extension": ".py",
   "mimetype": "text/x-python",
   "name": "python",
   "nbconvert_exporter": "python",
   "pygments_lexer": "ipython2",
   "version": "2.7.10"
  }
 },
 "nbformat": 4,
 "nbformat_minor": 0
}
